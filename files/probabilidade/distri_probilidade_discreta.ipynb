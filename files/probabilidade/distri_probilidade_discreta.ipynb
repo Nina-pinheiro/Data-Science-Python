{
  "nbformat": 4,
  "nbformat_minor": 0,
  "metadata": {
    "colab": {
      "provenance": []
    },
    "kernelspec": {
      "name": "python3",
      "display_name": "Python 3"
    },
    "language_info": {
      "name": "python"
    }
  },
  "cells": [
    {
      "cell_type": "markdown",
      "source": [
        "# Distribuição Uniforme Discreta"
      ],
      "metadata": {
        "id": "itZtdvZ88kg3"
      }
    },
    {
      "cell_type": "code",
      "execution_count": 1,
      "metadata": {
        "id": "ufdm4tJa8gXw"
      },
      "outputs": [],
      "source": [
        "import random\n",
        "\n",
        "# Função que gera 10 números aleatórios entre 1 e 6 (inclusive)\n",
        "def uniforme(n):\n",
        "  for i in range(n):\n",
        "    x = random.randint(1, 6)\n",
        "    print(x)"
      ]
    },
    {
      "cell_type": "code",
      "source": [
        "uniforme(10)"
      ],
      "metadata": {
        "id": "nzwiD4sF8yO8"
      },
      "execution_count": null,
      "outputs": []
    },
    {
      "cell_type": "code",
      "source": [
        "# Função para gerar um gráfico da função uniforme\n",
        "import matplotlib.pyplot as plt\n",
        "import numpy as np\n",
        "\n",
        "def uniforme_graf(limite_inferior,limite_superior):\n",
        "  # Gerando os dados da distribuição uniforme discreta\n",
        "  # Randint (o primeiro parâmetro é o limite inferior, o segundo parâmetro é o limite superior e o terceiro parâmetro é o tamanho do array gerado).\n",
        "  dados = np.random.randint(low=limite_inferior, high=limite_superior, size=1000)\n",
        "\n",
        "  # Gerando o histograma dos dados\n",
        "  '''dados: os dados gerados pela função numpy.random.randint().\n",
        "  bins: o número de caixas (barras) do histograma. Neste caso, estamos usando 10 caixas.\n",
        "  density: indica se o histograma deve ser normalizado (para que a área total seja igual a 1). Neste caso, estamos usando True para normalizar.\n",
        "  alpha: define a transparência do histograma. Neste caso, estamos usando 0.5.'''\n",
        "\n",
        "  plt.hist(dados, bins=10, density=True, alpha=0.5,color='green')\n",
        "\n",
        "  # Configurando o gráfico\n",
        "  plt.title('Distribuição Uniforme Discreta')\n",
        "  plt.xlabel('Valores')\n",
        "  plt.ylabel('Probabilidade')\n",
        "\n",
        "  # Mostrando o gráfico\n",
        "  plt.show()\n"
      ],
      "metadata": {
        "id": "yCgC1XRx8zkS"
      },
      "execution_count": 4,
      "outputs": []
    },
    {
      "cell_type": "code",
      "source": [
        "uniforme_graf(1,11)"
      ],
      "metadata": {
        "colab": {
          "base_uri": "https://localhost:8080/",
          "height": 295
        },
        "id": "Nd_ZRtUX9Psi",
        "outputId": "940ee4a1-d671-4d12-a6cd-dac7d5b8f5a2"
      },
      "execution_count": 5,
      "outputs": [
        {
          "output_type": "display_data",
          "data": {
            "text/plain": [
              "<Figure size 432x288 with 1 Axes>"
            ],
            "image/png": "[encoded data removed]"
          },
          "metadata": {
            "needs_background": "light"
          }
        }
      ]
    },
    {
      "cell_type": "code",
      "source": [
        "# Calcular a função de probabilidade\n",
        "from scipy.stats import randint\n",
        "\n",
        "def funcao_uniform(valor_min,valor_max,valor):\n",
        "  # Calculando a função de probabilidade para um valor específico k\n",
        "  pmf = randint.pmf(valor, valor_min, valor_max)\n",
        "  print(pmf)\n",
        "\"\"\"Explicação dos parâmetros:\n",
        "\"a\" é o valor mínimo possível na distribuição uniforme discreta.\n",
        "\"b\" é o valor máximo possível na distribuição uniforme discreta.\n",
        "\"k\" é o valor para o qual queremos calcular a função de probabilidade.\n",
        "\"pmf\" é o valor da função de probabilidade para o valor k.\n",
        "Vale lembrar que, como a distribuição uniforme discreta tem a mesma probabilidade para cada valor possível, a função de probabilidade \n",
        "retorna o mesmo valor para todos os valores possíveis na distribuição. Ou seja, o resultado da função de probabilidade é sempre igual a 1 dividido pelo número total \n",
        "de valores possíveis na distribuição.\"\"\""
      ],
      "metadata": {
        "id": "PTEF9pAm9gXo"
      },
      "execution_count": null,
      "outputs": []
    },
    {
      "cell_type": "code",
      "source": [
        "# Dado que temos uma urna com 6 valores sendo que o minimo é 1 e o máximo é 6. A probabilidade de tirar o número 2 é:\n",
        "funcao_uniform(1,7,4)"
      ],
      "metadata": {
        "colab": {
          "base_uri": "https://localhost:8080/"
        },
        "id": "Dx6jJwHM-NoR",
        "outputId": "6add5172-ea03-4c37-e382-30d0c3020de3"
      },
      "execution_count": 23,
      "outputs": [
        {
          "output_type": "stream",
          "name": "stdout",
          "text": [
            "0.16666666666666666\n"
          ]
        }
      ]
    },
    {
      "cell_type": "markdown",
      "source": [
        "## Distribuição de Bernoulli"
      ],
      "metadata": {
        "id": "NB9Ec-Qd_wr7"
      }
    },
    {
      "cell_type": "code",
      "source": [
        "import numpy as np\n",
        "\n",
        "# Gerando a distribuição de Bernoulli\n",
        "# p = # Probabilidade de sucesso\n",
        "def dist_bernoulli(p):\n",
        "  amostra = np.random.binomial(n=1, p=p, size=1000)\n",
        "  # Mostrando a distribuição\n",
        "  print('Média:', np.mean(amostra))\n",
        "  print('Variância:', np.var(amostra))"
      ],
      "metadata": {
        "id": "PhsaEY9aCtzV"
      },
      "execution_count": 37,
      "outputs": []
    },
    {
      "cell_type": "code",
      "source": [
        "dist_bernoulli(0.70)"
      ],
      "metadata": {
        "colab": {
          "base_uri": "https://localhost:8080/"
        },
        "id": "x0tnwnlRDD4R",
        "outputId": "9a685c4b-e1a4-434e-d717-a310f64cebed"
      },
      "execution_count": 38,
      "outputs": [
        {
          "output_type": "stream",
          "name": "stdout",
          "text": [
            "Média: 0.689\n",
            "Variância: 0.214279\n"
          ]
        }
      ]
    },
    {
      "cell_type": "code",
      "source": [
        "import matplotlib.pyplot as plt\n",
        "import numpy as np\n",
        "\n",
        "# Gerando a distribuição de Bernoulli\n",
        "#p = # Probabilidade de sucesso\n",
        "def bernoulli_graph(p):\n",
        "  x = np.arange(2)\n",
        "  probabilidades = [1-p, p]\n",
        "\n",
        "  # Criando o gráfico\n",
        "  plt.bar(x, probabilidades,color='green')\n",
        "  plt.xticks(x, ['Fracasso', 'Sucesso'])\n",
        "  plt.ylabel('Probabilidade')\n",
        "  plt.title('Distribuição de Bernoulli com p=0.70')\n",
        "  plt.show()\n"
      ],
      "metadata": {
        "id": "3hNH9CrNDGXz"
      },
      "execution_count": 40,
      "outputs": []
    },
    {
      "cell_type": "code",
      "source": [
        "bernoulli_graph(0.70)"
      ],
      "metadata": {
        "colab": {
          "base_uri": "https://localhost:8080/",
          "height": 281
        },
        "id": "GoatqHBbENTm",
        "outputId": "19c03df2-8b13-4e62-c11e-32652ae1eff9"
      },
      "execution_count": 42,
      "outputs": [
        {
          "output_type": "display_data",
          "data": {
            "text/plain": [
              "<Figure size 432x288 with 1 Axes>"
            ],
            "image/png": "[encoded data removed]"
          },
          "metadata": {
            "needs_background": "light"
          }
        }
      ]
    },
    {
      "cell_type": "code",
      "source": [
        "from scipy.stats import bernoulli\n",
        "\n",
        "# Definindo a probabilidade de sucesso da distribuição\n",
        "#p = probabilidade_de_sucesso\n",
        "# k = valor_específico\n",
        "\n",
        "# Calculando a função de probabilidade para um valor específico k\n",
        "\n",
        "def funcao_bernoulli(k,p):\n",
        "  pmf = bernoulli.pmf(k, p)\n",
        "  print(pmf)\n"
      ],
      "metadata": {
        "id": "vW9JO1KZERps"
      },
      "execution_count": 43,
      "outputs": []
    },
    {
      "cell_type": "code",
      "source": [
        "funcao_bernoulli(1,0.50)"
      ],
      "metadata": {
        "colab": {
          "base_uri": "https://localhost:8080/"
        },
        "id": "jvcUthujFDd8",
        "outputId": "84e42fa6-c7fe-4c7f-ac8a-0accca2f8280"
      },
      "execution_count": 46,
      "outputs": [
        {
          "output_type": "stream",
          "name": "stdout",
          "text": [
            "0.5\n"
          ]
        }
      ]
    },
    {
      "cell_type": "markdown",
      "source": [
        "\n",
        "## Distribuição Binomial"
      ],
      "metadata": {
        "id": "qtGsRnuNGeVK"
      }
    },
    {
      "cell_type": "code",
      "source": [
        "import numpy as np\n",
        "import matplotlib.pyplot as plt\n",
        "\n",
        "# Definindo os parâmetros da distribuição binomial\n",
        "# número de tentativas independentes\n",
        "# probabilidade de sucesso em cada tentativa independente\n",
        "\n",
        "# Gerando os valores da distribuição binomial\n",
        "def binomial_graph(n,p): \n",
        "  binomial = np.random.binomial(n, p, size=1000)\n",
        "\n",
        "  # Plotando o histograma da distribuição binomial\n",
        "  plt.hist(binomial, bins=range(n+2), align='left', density=True)\n",
        "\n",
        "  # Definindo o título e os rótulos dos eixos do gráfico\n",
        "  plt.title('Distribuição Binomial')\n",
        "  plt.xlabel('Número de Sucessos')\n",
        "  plt.ylabel('Frequência Relativa')\n",
        "\n",
        "  # Exibindo o gráfico\n",
        "  plt.show()\n"
      ],
      "metadata": {
        "id": "9wuLv-8xFZvP"
      },
      "execution_count": 50,
      "outputs": []
    },
    {
      "cell_type": "code",
      "source": [
        "binomial_graph(10,0.5)"
      ],
      "metadata": {
        "colab": {
          "base_uri": "https://localhost:8080/",
          "height": 295
        },
        "id": "RFVYzw3XG1zG",
        "outputId": "e5be7558-a15e-4154-bf93-1095183b8146"
      },
      "execution_count": 51,
      "outputs": [
        {
          "output_type": "display_data",
          "data": {
            "text/plain": [
              "<Figure size 432x288 with 1 Axes>"
            ],
            "image/png": "[encoded data removed]"
          },
          "metadata": {
            "needs_background": "light"
          }
        }
      ]
    },
    {
      "cell_type": "code",
      "source": [
        "from scipy.stats import binom\n",
        "\n",
        "# n=  número de ensaios\n",
        "# p= probabilidade de sucesso da distribuição\n",
        "# k = a probabilidade de obter um determinado evento\n",
        "def func(k,n,p):\n",
        "  pmf = binom.pmf(k, n, p)\n",
        "  return pmf"
      ],
      "metadata": {
        "id": "XYPVkuzQGhWZ"
      },
      "execution_count": 81,
      "outputs": []
    },
    {
      "cell_type": "code",
      "source": [
        "# Calculando a função de probabilidade para k = 0\n",
        "print(func(0, 10, 0.5))"
      ],
      "metadata": {
        "colab": {
          "base_uri": "https://localhost:8080/"
        },
        "id": "d6CRQVhPdgIZ",
        "outputId": "6027e887-d98a-44d5-dc1a-7894e1b0b76b"
      },
      "execution_count": 73,
      "outputs": [
        {
          "output_type": "stream",
          "name": "stdout",
          "text": [
            "0.0009765625\n"
          ]
        }
      ]
    },
    {
      "cell_type": "code",
      "source": [
        "# Calculando a função de probabilidade para k = 1\n",
        "print(func(1, 10, 0.5))"
      ],
      "metadata": {
        "colab": {
          "base_uri": "https://localhost:8080/"
        },
        "id": "vHa-2EMzdjs6",
        "outputId": "88d9a3d4-15c4-4a30-e33e-e30758a389f8"
      },
      "execution_count": 74,
      "outputs": [
        {
          "output_type": "stream",
          "name": "stdout",
          "text": [
            "0.009765625000000002\n"
          ]
        }
      ]
    },
    {
      "cell_type": "code",
      "source": [
        "# Calculando a função de probabilidade para k = 2\n",
        "print(func(3, 10, 0.5))"
      ],
      "metadata": {
        "colab": {
          "base_uri": "https://localhost:8080/"
        },
        "id": "bkTmiEzgdmGA",
        "outputId": "ab52eb63-c238-4240-b459-8c30998537e7"
      },
      "execution_count": 89,
      "outputs": [
        {
          "output_type": "stream",
          "name": "stdout",
          "text": [
            "0.1171875\n"
          ]
        }
      ]
    },
    {
      "cell_type": "markdown",
      "source": [
        "## Distribuição de Poisson"
      ],
      "metadata": {
        "id": "-iS0enybMZJq"
      }
    },
    {
      "cell_type": "code",
      "source": [
        "# Gerar uma distribuição de Poisson\n",
        "\n",
        "import numpy as np\n",
        "\n",
        "# t=  taxa média dos eventos por unidade de tempo\n",
        "\n",
        "def dist_poisson(t):\n",
        "  # Gerando uma amostra de 1000 números seguindo a distribuição de Poisson com a taxa média definida\n",
        "  amostra_poisson = np.random.poisson(t, size=1000)\n",
        "  # Imprimindo os valores gerados\n",
        "  print(amostra_poisson)"
      ],
      "metadata": {
        "id": "XXDRL4vcJSJN"
      },
      "execution_count": 55,
      "outputs": []
    },
    {
      "cell_type": "code",
      "source": [
        "#Neste exemplo, definimos a taxa média de eventos por unidade de tempo como 2,5 \n",
        "#e geramos uma amostra de 1000 números seguindo a distribuição de Poisson com essa taxa média.\n",
        "dist_poisson(2.5)"
      ],
      "metadata": {
        "id": "zTc8k9NfOmSL"
      },
      "execution_count": null,
      "outputs": []
    },
    {
      "cell_type": "code",
      "source": [
        "import numpy as np\n",
        "import matplotlib.pyplot as plt\n",
        "\n",
        "# Definindo a taxa média dos eventos por unidade de tempo\n",
        "taxa_media = 2.5\n",
        "\n",
        "# Gerando uma amostra de 1000 números seguindo a distribuição de Poisson com a taxa média definida\n",
        "def poisson_graph(t):\n",
        "  amostra_poisson = np.random.poisson(t, size=1000)\n",
        "  # Gerando um histograma da amostra\n",
        "  n, bins, patches = plt.hist(amostra_poisson, bins=range(11), density=True)\n",
        "  # Gerando a distribuição de Poisson teórica\n",
        "  poisson = np.exp(-t) * np.power(t, bins)/ np.math.factorial(bins)\n",
        "  # Plotando a distribuição de Poisson teórica\n",
        "  plt.plot(bins, poisson, '-')\n",
        "  # Configurando o título e os eixos do gráfico\n",
        "  plt.title(\"Distribuição de Poisson\")\n",
        "  plt.xlabel(\"Número de eventos\")\n",
        "  plt.ylabel(\"Densidade de probabilidade\")\n",
        "\n",
        "  # Exibindo o gráfico\n",
        "  plt.show()"
      ],
      "metadata": {
        "id": "rRkx3czeOn5L"
      },
      "execution_count": 65,
      "outputs": []
    },
    {
      "cell_type": "code",
      "source": [
        "poisson_graph(2.5)"
      ],
      "metadata": {
        "colab": {
          "base_uri": "https://localhost:8080/",
          "height": 535
        },
        "id": "jDi1PH_lQZjO",
        "outputId": "9c764ccf-47c8-4ce1-8356-5972564ad9e4"
      },
      "execution_count": 97,
      "outputs": [
        {
          "output_type": "error",
          "ename": "TypeError",
          "evalue": "ignored",
          "traceback": [
            "\u001b[0;31m---------------------------------------------------------------------------\u001b[0m",
            "\u001b[0;31mTypeError\u001b[0m                                 Traceback (most recent call last)",
            "\u001b[0;32m<ipython-input-97-ec956586d791>\u001b[0m in \u001b[0;36m<module>\u001b[0;34m\u001b[0m\n\u001b[0;32m----> 1\u001b[0;31m \u001b[0mpoisson_graph\u001b[0m\u001b[0;34m(\u001b[0m\u001b[0;36m2.5\u001b[0m\u001b[0;34m)\u001b[0m\u001b[0;34m\u001b[0m\u001b[0;34m\u001b[0m\u001b[0m\n\u001b[0m",
            "\u001b[0;32m<ipython-input-65-dfdfea3f2414>\u001b[0m in \u001b[0;36mpoisson_graph\u001b[0;34m(t)\u001b[0m\n\u001b[1;32m     11\u001b[0m   \u001b[0mn\u001b[0m\u001b[0;34m,\u001b[0m \u001b[0mbins\u001b[0m\u001b[0;34m,\u001b[0m \u001b[0mpatches\u001b[0m \u001b[0;34m=\u001b[0m \u001b[0mplt\u001b[0m\u001b[0;34m.\u001b[0m\u001b[0mhist\u001b[0m\u001b[0;34m(\u001b[0m\u001b[0mamostra_poisson\u001b[0m\u001b[0;34m,\u001b[0m \u001b[0mbins\u001b[0m\u001b[0;34m=\u001b[0m\u001b[0mrange\u001b[0m\u001b[0;34m(\u001b[0m\u001b[0;36m11\u001b[0m\u001b[0;34m)\u001b[0m\u001b[0;34m,\u001b[0m \u001b[0mdensity\u001b[0m\u001b[0;34m=\u001b[0m\u001b[0;32mTrue\u001b[0m\u001b[0;34m)\u001b[0m\u001b[0;34m\u001b[0m\u001b[0;34m\u001b[0m\u001b[0m\n\u001b[1;32m     12\u001b[0m   \u001b[0;31m# Gerando a distribuição de Poisson teórica\u001b[0m\u001b[0;34m\u001b[0m\u001b[0;34m\u001b[0m\u001b[0m\n\u001b[0;32m---> 13\u001b[0;31m   \u001b[0mpoisson\u001b[0m \u001b[0;34m=\u001b[0m \u001b[0mnp\u001b[0m\u001b[0;34m.\u001b[0m\u001b[0mexp\u001b[0m\u001b[0;34m(\u001b[0m\u001b[0;34m-\u001b[0m\u001b[0mt\u001b[0m\u001b[0;34m)\u001b[0m \u001b[0;34m*\u001b[0m \u001b[0mnp\u001b[0m\u001b[0;34m.\u001b[0m\u001b[0mpower\u001b[0m\u001b[0;34m(\u001b[0m\u001b[0mt\u001b[0m\u001b[0;34m,\u001b[0m \u001b[0mbins\u001b[0m\u001b[0;34m)\u001b[0m\u001b[0;34m/\u001b[0m \u001b[0mnp\u001b[0m\u001b[0;34m.\u001b[0m\u001b[0mmath\u001b[0m\u001b[0;34m.\u001b[0m\u001b[0mfactorial\u001b[0m\u001b[0;34m(\u001b[0m\u001b[0mbins\u001b[0m\u001b[0;34m)\u001b[0m\u001b[0;34m\u001b[0m\u001b[0;34m\u001b[0m\u001b[0m\n\u001b[0m\u001b[1;32m     14\u001b[0m   \u001b[0;31m# Plotando a distribuição de Poisson teórica\u001b[0m\u001b[0;34m\u001b[0m\u001b[0;34m\u001b[0m\u001b[0m\n\u001b[1;32m     15\u001b[0m   \u001b[0mplt\u001b[0m\u001b[0;34m.\u001b[0m\u001b[0mplot\u001b[0m\u001b[0;34m(\u001b[0m\u001b[0mbins\u001b[0m\u001b[0;34m,\u001b[0m \u001b[0mpoisson\u001b[0m\u001b[0;34m,\u001b[0m \u001b[0;34m'-'\u001b[0m\u001b[0;34m)\u001b[0m\u001b[0;34m\u001b[0m\u001b[0;34m\u001b[0m\u001b[0m\n",
            "\u001b[0;31mTypeError\u001b[0m: only integer scalar arrays can be converted to a scalar index"
          ]
        },
        {
          "output_type": "display_data",
          "data": {
            "text/plain": [
              "<Figure size 432x288 with 1 Axes>"
            ],
            "image/png": "[encoded data removed]"
          },
          "metadata": {
            "needs_background": "light"
          }
        }
      ]
    },
    {
      "cell_type": "code",
      "source": [
        "from scipy.stats import poisson\n",
        "\n",
        "# t = taxa média dos eventos por unidade de tempo\n",
        "# a quantidade de eventos que se quer calcular\n",
        "\n",
        "def func_poisson(eventos,t):\n",
        "  probabilidade = poisson.pmf(eventos, t)\n",
        "  # Imprimindo o resultado\n",
        "  print(probabilidade)"
      ],
      "metadata": {
        "id": "9kXlVLNTQoqq"
      },
      "execution_count": 68,
      "outputs": []
    },
    {
      "cell_type": "code",
      "source": [
        "# Calculando a probabilidade de 3 eventos ocorrerem no intervalo de tempo ou espaço\n",
        "func_poisson(3,5)"
      ],
      "metadata": {
        "colab": {
          "base_uri": "https://localhost:8080/"
        },
        "id": "3GukrL39UMBZ",
        "outputId": "ce8f031f-9432-4264-f7b6-1978e6b9d442"
      },
      "execution_count": 71,
      "outputs": [
        {
          "output_type": "stream",
          "name": "stdout",
          "text": [
            "0.1403738958142805\n"
          ]
        }
      ]
    },
    {
      "cell_type": "code",
      "source": [
        "# Calculando a probabilidade de 3 eventos ocorrerem no intervalo de tempo ou espaço\n",
        "func_poisson(4,8.5)"
      ],
      "metadata": {
        "colab": {
          "base_uri": "https://localhost:8080/"
        },
        "id": "lsYnHo0KUSVn",
        "outputId": "f4164de9-243f-4af1-9db6-b0d1cac27d1b"
      },
      "execution_count": 95,
      "outputs": [
        {
          "output_type": "stream",
          "name": "stdout",
          "text": [
            "0.04425490012535942\n"
          ]
        }
      ]
    },
    {
      "cell_type": "markdown",
      "source": [
        "## Distribuição hipergeométrica"
      ],
      "metadata": {
        "id": "OtPO7bHzqmUp"
      }
    },
    {
      "cell_type": "code",
      "source": [
        "from scipy.stats import hypergeom\n",
        "\n",
        "# parâmetros da distribuição\n",
        "N = 20\n",
        "K = 8\n",
        "n = 5\n",
        "k = 3\n",
        "\n",
        "# criando um objeto de distribuição hipergeométrica\n",
        "def dist_hipergeo(N,K,n):\n",
        "  dist = hypergeom(N, K, n)\n",
        "  # calculando a probabilidade de X = k\n",
        "  prob = dist.pmf(k)\n",
        "  print(prob)"
      ],
      "metadata": {
        "id": "DnOgHGzPqmpl"
      },
      "execution_count": 98,
      "outputs": []
    },
    {
      "cell_type": "code",
      "source": [
        "dist_hipergeo(20,8,3)"
      ],
      "metadata": {
        "colab": {
          "base_uri": "https://localhost:8080/"
        },
        "id": "ZZnOvIiZq5Yz",
        "outputId": "b110f47b-4f69-476b-84b4-0e212074e00b"
      },
      "execution_count": 100,
      "outputs": [
        {
          "output_type": "stream",
          "name": "stdout",
          "text": [
            "0.04912280701754387\n"
          ]
        }
      ]
    },
    {
      "cell_type": "code",
      "source": [
        "# criando um objeto de distribuição hipergeométrica\n",
        "def func_hipergeo(k,N,K,n):\n",
        "  p = hypergeom.pmf(k, N, K, n)\n",
        "  print(p)"
      ],
      "metadata": {
        "id": "CoXyxJUhsbqi"
      },
      "execution_count": 105,
      "outputs": []
    },
    {
      "cell_type": "code",
      "source": [
        "func_hipergeo(3,40,25,5)"
      ],
      "metadata": {
        "colab": {
          "base_uri": "https://localhost:8080/"
        },
        "id": "_rwkKWOWsklj",
        "outputId": "3b4dc693-a532-4250-ac34-dbb7c0e9df11"
      },
      "execution_count": 108,
      "outputs": [
        {
          "output_type": "stream",
          "name": "stdout",
          "text": [
            "0.3670168143852354\n"
          ]
        }
      ]
    },
    {
      "cell_type": "code",
      "source": [
        "import scipy.stats as stats\n",
        "import matplotlib.pyplot as plt\n",
        "\n",
        "# # definir os parâmetros\n",
        "# N = 20  # número total de bolas na urna\n",
        "# n = 5  # número de bolas retiradas\n",
        "# K = 8  # número de bolas vermelhas na urna\n",
        "# k = 3  # número de bolas vermelhas retiradas\n",
        "\n",
        "# calcular a probabilidade da distribuição hipergeométrica\n",
        "def graf_hiper(N, K, n):\n",
        "  x = range(0, n+1)\n",
        "  pmf = stats.hypergeom.pmf(x, N, K, n)\n",
        "\n",
        "  # plotar o gráfico de distribuição\n",
        "  plt.bar(x, pmf)\n",
        "  plt.xlabel('Número de sucessos na amostra')\n",
        "  plt.ylabel('Probabilidade')\n",
        "  plt.title('Distribuição hipergeométrica')\n",
        "  plt.show()"
      ],
      "metadata": {
        "id": "fLsoaE6GtWn0"
      },
      "execution_count": 116,
      "outputs": []
    },
    {
      "cell_type": "code",
      "source": [
        "graf_hiper(20,8,5)"
      ],
      "metadata": {
        "colab": {
          "base_uri": "https://localhost:8080/",
          "height": 295
        },
        "id": "lGw2FJrWtYZH",
        "outputId": "9993dbce-b4ac-439e-bdc1-6efb8ba7fc63"
      },
      "execution_count": 117,
      "outputs": [
        {
          "output_type": "display_data",
          "data": {
            "text/plain": [
              "<Figure size 432x288 with 1 Axes>"
            ],
            "image/png": "[encoded data removed]"
          },
          "metadata": {
            "needs_background": "light"
          }
        }
      ]
    },
    {
      "cell_type": "code",
      "source": [],
      "metadata": {
        "id": "lnhgz2AbuDRn"
      },
      "execution_count": null,
      "outputs": []
    }
  ]
}